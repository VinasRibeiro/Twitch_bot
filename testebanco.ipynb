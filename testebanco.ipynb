{
 "metadata": {
  "language_info": {
   "codemirror_mode": {
    "name": "ipython",
    "version": 3
   },
   "file_extension": ".py",
   "mimetype": "text/x-python",
   "name": "python",
   "nbconvert_exporter": "python",
   "pygments_lexer": "ipython3",
   "version": "3.8.5-final"
  },
  "orig_nbformat": 2,
  "kernelspec": {
   "name": "Python 3.8.5 32-bit ('.myenv')",
   "display_name": "Python 3.8.5 32-bit ('.myenv')",
   "metadata": {
    "interpreter": {
     "hash": "b010e9d50a6eec1e4e196a5e3735d4facf17264ca2e8e583d094fdae8d243f4a"
    }
   }
  }
 },
 "nbformat": 4,
 "nbformat_minor": 2,
 "cells": [
  {
   "cell_type": "code",
   "execution_count": 1,
   "metadata": {},
   "outputs": [],
   "source": [
    "from datetime import datetime\n",
    "from sqlalchemy import insert\n",
    "from sqlalchemy.sql import select\n",
    "from sqlalchemy import (MetaData, Table, Column, Integer, Numeric, String, DateTime, ForeignKey, Boolean, create_engine)\n",
    "\n",
    "metadata = MetaData()\n",
    "\n",
    "bots = Table('bots', metadata,\n",
    "    Column('bot_id', Integer(), primary_key=True),\n",
    "    Column('bot_name', String(15), nullable=False, unique=True),\n",
    "    Column('bot_email', String(100), nullable=False),\n",
    "    Column('password', String(25), nullable=False),\n",
    "    Column('birth_date', String(10), nullable=False),\n",
    "    Column('created_on', DateTime(), default=datetime.now),\n",
    "    Column('updated_on', DateTime(), default=datetime.now, onupdate=datetime.now)\n",
    "    \n",
    ")\n",
    "\n",
    "users = Table('users', metadata,\n",
    "    Column('users_id', Integer(), primary_key=True),\n",
    "    Column('users_name', String(15), nullable=False, unique=True),\n",
    "    Column('bot_id', ForeignKey('bots.bot_id'))\n",
    "\n",
    "\n",
    ")\n",
    "\n",
    "engine = create_engine('sqlite:///base.db')\n",
    "metadata.create_all(engine)\n",
    "connection = engine.connect()\n"
   ]
  },
  {
   "cell_type": "code",
   "execution_count": 3,
   "metadata": {},
   "outputs": [],
   "source": [
    "inventory_list = [\n",
    "    {\n",
    "        'bot_name': 'Crabs',\n",
    "        'bot_email': 'crabs@gmail.com',\n",
    "        'password': '45dfgçlkdfjglç',\n",
    "        'birth_date': '31/01/1986'\n",
    "    }\n",
    "]"
   ]
  },
  {
   "cell_type": "code",
   "execution_count": 32,
   "metadata": {},
   "outputs": [],
   "source": [
    "usertw = [\n",
    "    {\n",
    "        'users_name': 'Vlav2',\n",
    "        'bot_id' : 1\n",
    "    }\n",
    "]"
   ]
  },
  {
   "cell_type": "code",
   "execution_count": 10,
   "metadata": {},
   "outputs": [],
   "source": [
    "ins = bots.insert()\n",
    "result = connection.execute(ins, inventory_list)"
   ]
  },
  {
   "cell_type": "code",
   "execution_count": 33,
   "metadata": {},
   "outputs": [],
   "source": [
    "try:\n",
    "    ins = users.insert()\n",
    "    result = connection.execute(ins, usertw)\n",
    "except Exception as msg:\n",
    "    print(msg)"
   ]
  }
 ]
}