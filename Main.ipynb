{
 "metadata": {
  "language_info": {
   "codemirror_mode": {
    "name": "ipython",
    "version": 3
   },
   "file_extension": ".py",
   "mimetype": "text/x-python",
   "name": "python",
   "nbconvert_exporter": "python",
   "pygments_lexer": "ipython3",
   "version": "3.8.5-final"
  },
  "orig_nbformat": 2,
  "kernelspec": {
   "name": "Python 3.8.5 32-bit ('.myenv')",
   "display_name": "Python 3.8.5 32-bit ('.myenv')",
   "metadata": {
    "interpreter": {
     "hash": "f6b819958b31cf0eb1b9b635f8bcfc4db202f7225e3c3ffd3533c72a5fadd8ef"
    }
   }
  }
 },
 "nbformat": 4,
 "nbformat_minor": 2,
 "cells": [
  {
   "cell_type": "code",
   "execution_count": 2,
   "metadata": {},
   "outputs": [],
   "source": [
    "from Modulos.banco import Banco\n",
    "from Modulos.busca_user import Busca_users\n",
    "from Modulos.cria_novos_bots import Bots\n",
    "from Modulos.divulga_twitch import Divulgador"
   ]
  },
  {
   "cell_type": "code",
   "execution_count": null,
   "metadata": {},
   "outputs": [],
   "source": [
    "def insere_novos_users_no_banco():\n",
    "\n",
    "    # Esta função busca usuários baseado nos streamers\n",
    "    # Ele primeiro busca streamers baseado no numero total_streamers\n",
    "    # Depois insere no banco de dados usuáios que não existem estão no mesmo.\n",
    "\n",
    "    b = Banco(\"banco\")\n",
    "       \n",
    "    # Buscar usuários e adicionar ao banco\n",
    "    Busers = Busca_users()\n",
    "    streamer = Busers.retorna_streamers(1)\n",
    "    Busers.fecha()\n",
    "\n",
    "    users = Busers.retorna_users(streamer)    \n",
    "\n",
    "    lista_nova = []\n",
    "    lista = []\n",
    "\n",
    "    for u in users:\n",
    "        if b.select_user(u) == []:\n",
    "            lista_nova.append(u)\n",
    "    \n",
    "    for u in lista_nova:\n",
    "        lista.append({'user_name': u })\n",
    "    \n",
    "    b.insere(\"users\",lista)\n",
    "\n",
    "    return lista\n"
   ]
  },
  {
   "cell_type": "code",
   "execution_count": null,
   "metadata": {},
   "outputs": [],
   "source": [
    "def dark_mode(self):\n",
    "\n",
    "        driver = self.driver\n",
    "\n",
    "        # Configura o browser para dark mode\n",
    "        driver.get(\"about:config\")\n",
    "        driver.find_element_by_id(\"warningButton\").click()\n",
    "        driver.find_element_by_id(\"about-config-search\").send_keys(\"devtools.theme\")\n",
    "        driver.find_element_by_class_name(\"button-edit\").click()\n",
    "        driver.find_elements_by_xpath(\"//input[@type='text']\")[1].send_keys(\"dark\")\n",
    "        driver.find_element_by_class_name(\"primary.button-save\").click()"
   ]
  },
  {
   "cell_type": "code",
   "execution_count": null,
   "metadata": {},
   "outputs": [],
   "source": [
    "b.atualiza_stats(\"user_name\",\"rapperboy5\",False)"
   ]
  },
  {
   "cell_type": "code",
   "execution_count": null,
   "metadata": {},
   "outputs": [],
   "source": [
    "def login(lgUser, passUser):\n",
    "\n",
    "\n",
    "        driver.find_element_by_xpath(\"//input[@id='login-username']\").clear()\n",
    "        driver.find_element_by_xpath(\"//input[@id='login-username']\").send_keys(lgUser)\n",
    "\n",
    "        driver.find_element_by_xpath(\"//input[@id='password-input']\").clear()\n",
    "        driver.find_element_by_xpath(\"//input[@id='password-input']\").send_keys(passUser)\n",
    "        driver.find_element_by_xpath(\"//*[@data-a-target='passport-login-button']\").click()\n",
    "\n",
    "        # Pega os coockies\n",
    "        time.sleep(1)\n",
    "        pickle.dump(driver.get_cookies() , open(\"cookies.pkl\",\"wb\"))"
   ]
  },
  {
   "cell_type": "code",
   "execution_count": null,
   "metadata": {},
   "outputs": [],
   "source": [
    "brab = Busca_users"
   ]
  },
  {
   "cell_type": "code",
   "execution_count": 3,
   "metadata": {},
   "outputs": [],
   "source": [
    "b = Banco(\"banco\")"
   ]
  },
  {
   "cell_type": "code",
   "execution_count": 4,
   "metadata": {},
   "outputs": [
    {
     "output_type": "execute_result",
     "data": {
      "text/plain": [
       "[(6, 'had1sk', False, datetime.datetime(2020, 10, 14, 21, 56, 21, 558337), datetime.datetime(2020, 10, 14, 21, 56, 21, 558337))]"
      ]
     },
     "metadata": {},
     "execution_count": 4
    }
   ],
   "source": [
    "b.select_user(\"had1sk\")"
   ]
  },
  {
   "cell_type": "code",
   "execution_count": null,
   "metadata": {},
   "outputs": [],
   "source": []
  }
 ]
}