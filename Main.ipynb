{
 "metadata": {
  "language_info": {
   "codemirror_mode": {
    "name": "ipython",
    "version": 3
   },
   "file_extension": ".py",
   "mimetype": "text/x-python",
   "name": "python",
   "nbconvert_exporter": "python",
   "pygments_lexer": "ipython3",
   "version": "3.8.5-final"
  },
  "orig_nbformat": 2,
  "kernelspec": {
   "name": "Python 3.8.5 32-bit ('.myenv')",
   "display_name": "Python 3.8.5 32-bit ('.myenv')",
   "metadata": {
    "interpreter": {
     "hash": "f6b819958b31cf0eb1b9b635f8bcfc4db202f7225e3c3ffd3533c72a5fadd8ef"
    }
   }
  }
 },
 "nbformat": 4,
 "nbformat_minor": 2,
 "cells": [
  {
   "cell_type": "code",
   "execution_count": 1,
   "metadata": {},
   "outputs": [],
   "source": [
    "from Modulos.banco import Banco\n",
    "from Modulos.busca_user import Busca_users\n",
    "from Modulos.cria_novos_bots import Bots\n",
    "from Modulos.divulga_twitch import Divulgador\n",
    "\n",
    "from selenium import webdriver\n",
    "from selenium.webdriver.common.by import By\n",
    "from selenium.webdriver.firefox.options import Options\n",
    "from selenium.webdriver.common.keys import Keys\n",
    "from selenium.webdriver.support.ui import Select\n",
    "\n",
    "from selenium.webdriver.common.action_chains import ActionChains\n",
    "\n",
    "import requests\n",
    "import time\n",
    "import json\n",
    "import pickle\n",
    "import random"
   ]
  },
  {
   "cell_type": "code",
   "execution_count": null,
   "metadata": {},
   "outputs": [],
   "source": [
    "def login(lgUser, passUser):\n",
    "\n",
    "\n",
    "        driver.find_element_by_xpath(\"//input[@id='login-username']\").clear()\n",
    "        driver.find_element_by_xpath(\"//input[@id='login-username']\").send_keys(lgUser)\n",
    "\n",
    "        driver.find_element_by_xpath(\"//input[@id='password-input']\").clear()\n",
    "        driver.find_element_by_xpath(\"//input[@id='password-input']\").send_keys(passUser)\n",
    "        driver.find_element_by_xpath(\"//*[@data-a-target='passport-login-button']\").click()\n",
    "\n",
    "        # Pega os coockies\n",
    "        time.sleep(1)\n",
    "\n",
    "        cookies = pickle.load(open(\"cookies.pkl\", \"rb\"))\n",
    "        for cookie in cookies:\n",
    "                driver.add_cookie(cookie)"
   ]
  },
  {
   "cell_type": "code",
   "execution_count": null,
   "metadata": {},
   "outputs": [],
   "source": [
    "b = Busca_users()"
   ]
  },
  {
   "cell_type": "code",
   "execution_count": null,
   "metadata": {},
   "outputs": [],
   "source": [
    "def registra_na_twitch():\n",
    "        \n",
    "       \n",
    "        #fp = webdriver.FirefoxProfile(\"C:\\\\Users\\\\Vinicius\\\\AppData\\\\Roaming\\\\Mozilla\\\\Firefox\\\\Profiles\\\\xxuk2da7.default-release\")\n",
    "        #driver = webdriver.Firefox(fp)\n",
    "\n",
    "        chrome_options = webdriver.ChromeOptions()\n",
    "        chrome_options.add_argument('--disable-extensions')\n",
    "        chrome_options.add_argument('--profile-directory=Default')\n",
    "        chrome_options.add_argument(\"--incognito\")\n",
    "        chrome_options.add_argument(\"--disable-plugins-discovery\");\n",
    "        chrome_options.add_argument(\"--start-maximized\")\n",
    "        driver = webdriver.Chrome(chrome_options=chrome_options)\n",
    "        driver.implicitly_wait(5)    \n",
    "\n",
    "\n",
    "       \n",
    "        driver.get(\"https://www.twitch.tv/\")\n",
    "\n",
    "        cookies = pickle.load(open(\"cookies.pkl\", \"rb\"))\n",
    "        for cookie in cookies:\n",
    "                driver.add_cookie(cookie)\n",
    "        \n",
    "\n",
    "        driver.find_element_by_xpath(\"//*[@data-a-target='signup-button']\").click()\n",
    "        driver.find_element_by_id(\"signup-username\").clear()\n",
    "        driver.find_element_by_id(\"signup-username\").send_keys(\"borbos34jh5\")\n",
    "        driver.find_element_by_id(\"password-input\").clear()\n",
    "        driver.find_element_by_id(\"password-input\").send_keys(\"SoTp01251213@#\")\n",
    "        driver.find_element_by_id(\"password-input-confirmation\").clear()\n",
    "        driver.find_element_by_id(\"password-input-confirmation\").send_keys(\"SoTp01251213@#\")\n",
    "        driver.find_elements_by_xpath(\"//*[@aria-label='Insira seu dia de nascimento']\")[0].send_keys(\"12\")\n",
    "        driver.find_elements_by_xpath(\"//*[@aria-label='Selecione seu mês de aniversário']\")[0].send_keys(\"f\")\n",
    "        driver.find_element_by_xpath(\"//*[@aria-label='Insira seu ano de nascimento']\").send_keys(\"1986\")\n",
    "        driver.find_element_by_id(\"email-input\").send_keys(\"borbos34jh5@gmail.com\")\n",
    "        driver.find_element_by_xpath(\"//*[@data-a-target='passport-signup-button']\").click()\n",
    "\n",
    "        pickle.dump(driver.get_cookies() , open(\"cookies.pkl\",\"wb\"))"
   ]
  },
  {
   "cell_type": "code",
   "execution_count": null,
   "metadata": {},
   "outputs": [],
   "source": [
    "PROXY = '144.202.14.170:3128'\n"
   ]
  },
  {
   "cell_type": "code",
   "execution_count": null,
   "metadata": {},
   "outputs": [],
   "source": [
    "def registra_na_twitch_proxy():\n",
    "        \n",
    "       \n",
    "        #fp = webdriver.FirefoxProfile(\"C:\\\\Users\\\\Vinicius\\\\AppData\\\\Roaming\\\\Mozilla\\\\Firefox\\\\Profiles\\\\xxuk2da7.default-release\")\n",
    "        #driver = webdriver.Firefox(fp)\n",
    "\n",
    "        chrome_options = webdriver.ChromeOptions()\n",
    "        chrome_options.add_argument(f'-proxy-server={PROXY}')\n",
    "\n",
    "        driver = webdriver.Chrome(ChromeDriverManager().install(), options=chrome_options)\n",
    "        driver.implicitly_wait(5)    \n",
    "\n",
    "\n",
    "       \n",
    "        driver.get(\"https://www.twitch.tv/\")\n",
    "\n",
    "        cookies = pickle.load(open(\"cookies.pkl\", \"rb\"))\n",
    "        for cookie in cookies:\n",
    "                driver.add_cookie(cookie)\n",
    "        \n",
    "\n",
    "        driver.find_element_by_xpath(\"//*[@data-a-target='signup-button']\").click()\n",
    "        driver.find_element_by_id(\"signup-username\").clear()\n",
    "        driver.find_element_by_id(\"signup-username\").send_keys(\"borbos34ghjjh5\")\n",
    "        driver.find_element_by_id(\"password-input\").clear()\n",
    "        driver.find_element_by_id(\"password-input\").send_keys(\"SoTp01251213@#\")\n",
    "        driver.find_element_by_id(\"password-input-confirmation\").clear()\n",
    "        driver.find_element_by_id(\"password-input-confirmation\").send_keys(\"SoTp01251213@#\")\n",
    "        driver.find_elements_by_xpath(\"//*[@aria-label='Insira seu dia de nascimento']\")[0].send_keys(\"12\")\n",
    "        driver.find_elements_by_xpath(\"//*[@aria-label='Selecione seu mês de aniversário']\")[0].send_keys(\"f\")\n",
    "        driver.find_element_by_xpath(\"//*[@aria-label='Insira seu ano de nascimento']\").send_keys(\"1986\")\n",
    "        driver.find_element_by_id(\"email-input\").send_keys(\"borbos34ghjjh5@gmail.com\")\n",
    "        driver.find_element_by_xpath(\"//*[@data-a-target='passport-signup-button']\").click()\n",
    "\n",
    "        pickle.dump(driver.get_cookies() , open(\"cookies.pkl\",\"wb\"))"
   ]
  },
  {
   "cell_type": "code",
   "execution_count": null,
   "metadata": {},
   "outputs": [],
   "source": [
    "registra_na_twitch_proxy()"
   ]
  },
  {
   "cell_type": "code",
   "execution_count": null,
   "metadata": {},
   "outputs": [],
   "source": [
    "d = Divulgador()"
   ]
  },
  {
   "cell_type": "code",
   "execution_count": null,
   "metadata": {},
   "outputs": [],
   "source": [
    "d.login(\"brabosmanepic\",\"uXYCZ2E2Ku\")"
   ]
  },
  {
   "cell_type": "code",
   "execution_count": null,
   "metadata": {},
   "outputs": [],
   "source": [
    "\n",
    "\n"
   ]
  },
  {
   "cell_type": "code",
   "execution_count": null,
   "metadata": {},
   "outputs": [],
   "source": [
    "senha = \"uXYCZ2E2Ku\"\n",
    "login = \"robbobson@mail.vinaszz.club\""
   ]
  },
  {
   "cell_type": "code",
   "execution_count": null,
   "metadata": {},
   "outputs": [],
   "source": [
    "def busca_n_confirmacao(login,senha):\n",
    "\n",
    "    driver = webdriver.Firefox()\n",
    "    driver.implicitly_wait(5)\n",
    "    driver.get(\"https://vinaszz.club/mail/\")\n",
    "    driver.find_element_by_id(\"rcmloginuser\").clear()\n",
    "    driver.find_element_by_id(\"rcmloginuser\").send_keys(login)\n",
    "    driver.find_element_by_id(\"rcmloginpwd\").clear()\n",
    "    driver.find_element_by_id(\"rcmloginpwd\").send_keys(senha)\n",
    "    driver.find_element_by_id(\"rcmloginsubmit\").click()\n",
    "\n",
    "    msg = driver.find_elements_by_class_name(\"message\")[0]\n",
    "    msg.find_element_by_css_selector(\"td:nth-child(3) > span:nth-child(3) > a:nth-child(2)\").click()\n",
    "    iframe = driver.find_element_by_id(\"messagecontframe\")\n",
    "    driver.switch_to_frame(iframe)\n",
    "    numero = driver.find_elements_by_class_name(\"v1row.v1hide-for-large.v1app-store-section\")[0].text\n",
    "    numero = numero.replace(\"\\n\", \"\")\n",
    "    driver.switch_to.default_content()\n",
    "    #driver.close()\n",
    "\n",
    "    return numero\n"
   ]
  },
  {
   "cell_type": "code",
   "execution_count": null,
   "metadata": {},
   "outputs": [],
   "source": [
    "busca_n_confirmacao(login,senha)"
   ]
  },
  {
   "cell_type": "code",
   "execution_count": null,
   "metadata": {},
   "outputs": [],
   "source": [
    "driver = webdriver.Firefox()\n",
    "driver.implicitly_wait(5)\n",
    "driver.get(\"https://vinaszz.club/mail/\")\n",
    "driver.find_element_by_id(\"rcmloginuser\").clear()\n",
    "driver.find_element_by_id(\"rcmloginuser\").send_keys(login)\n",
    "driver.find_element_by_id(\"rcmloginpwd\").clear()\n",
    "driver.find_element_by_id(\"rcmloginpwd\").send_keys(senha)\n",
    "driver.find_element_by_id(\"rcmloginsubmit\").click()\n",
    "\n"
   ]
  },
  {
   "cell_type": "code",
   "execution_count": null,
   "metadata": {},
   "outputs": [],
   "source": [
    "driver.find_elements_by_class_name(\"message\")[3].find_element_by_css_selector(\" td:nth-child(3) > span:nth-child(3) > a:nth-child(2)\").text"
   ]
  },
  {
   "cell_type": "code",
   "execution_count": null,
   "metadata": {},
   "outputs": [],
   "source": [
    "driver.find_elements_by_class_name(\"message.unread\")[0].find_element_by_class_name(\"adr\").text"
   ]
  },
  {
   "cell_type": "code",
   "execution_count": null,
   "metadata": {},
   "outputs": [],
   "source": [
    "driver.refresh()"
   ]
  },
  {
   "cell_type": "code",
   "execution_count": null,
   "metadata": {},
   "outputs": [],
   "source": [
    "#rcmrowMzc > td:nth-child(3) > span:nth-child(3) > a:nth-child(2)"
   ]
  },
  {
   "cell_type": "code",
   "execution_count": 2,
   "metadata": {},
   "outputs": [],
   "source": [
    "driver = webdriver.Firefox()\n",
    "driver.implicitly_wait(5)\n"
   ]
  },
  {
   "cell_type": "code",
   "execution_count": 4,
   "metadata": {},
   "outputs": [],
   "source": [
    "driver.get(\"https://spys.one/free-proxy-list/BR/\")"
   ]
  },
  {
   "cell_type": "code",
   "execution_count": 51,
   "metadata": {},
   "outputs": [],
   "source": [
    "for proxy in driver.find_elements_by_class_name(\"spy1xx\"):\n",
    "    try:\n",
    "        listaproxy.append(proxy.find_elements_by_class_name(\"spy14\")[0].text)\n",
    "    except:\n",
    "        print(\"erro\")"
   ]
  },
  {
   "cell_type": "code",
   "execution_count": 41,
   "metadata": {},
   "outputs": [],
   "source": [
    "listaproxy = []"
   ]
  },
  {
   "cell_type": "code",
   "execution_count": 52,
   "metadata": {},
   "outputs": [
    {
     "output_type": "execute_result",
     "data": {
      "text/plain": [
       "31"
      ]
     },
     "metadata": {},
     "execution_count": 52
    }
   ],
   "source": [
    "len(listaproxy)"
   ]
  },
  {
   "cell_type": "code",
   "execution_count": null,
   "metadata": {},
   "outputs": [],
   "source": [
    "file1 = open(\"myfile.txt\",\"w\") "
   ]
  },
  {
   "cell_type": "code",
   "execution_count": null,
   "metadata": {},
   "outputs": [],
   "source": [
    "file1.writelines(L) "
   ]
  },
  {
   "cell_type": "code",
   "execution_count": null,
   "metadata": {},
   "outputs": [],
   "source": [
    "file1.close()"
   ]
  },
  {
   "cell_type": "code",
   "execution_count": null,
   "metadata": {},
   "outputs": [],
   "source": []
  }
 ]
}