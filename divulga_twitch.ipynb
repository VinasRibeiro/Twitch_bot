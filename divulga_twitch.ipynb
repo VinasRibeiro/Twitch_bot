{
 "metadata": {
  "language_info": {
   "codemirror_mode": {
    "name": "ipython",
    "version": 3
   },
   "file_extension": ".py",
   "mimetype": "text/x-python",
   "name": "python",
   "nbconvert_exporter": "python",
   "pygments_lexer": "ipython3",
   "version": "3.8.5-final"
  },
  "orig_nbformat": 2,
  "kernelspec": {
   "name": "Python 3.8.5 32-bit",
   "display_name": "Python 3.8.5 32-bit",
   "metadata": {
    "interpreter": {
     "hash": "b010e9d50a6eec1e4e196a5e3735d4facf17264ca2e8e583d094fdae8d243f4a"
    }
   }
  }
 },
 "nbformat": 4,
 "nbformat_minor": 2,
 "cells": [
  {
   "cell_type": "code",
   "execution_count": 1,
   "metadata": {},
   "outputs": [],
   "source": [
    "from selenium import webdriver\n",
    "from selenium.webdriver.common.by import By\n",
    "from selenium.webdriver.firefox.options import Options\n",
    "from selenium.webdriver.common.keys import Keys\n",
    "import requests\n",
    "import time\n",
    "import json\n",
    "import pickle\n",
    "\n",
    "\n",
    "\n",
    "def cookies():\n",
    "\n",
    "    # Carrega ou salva cookies\n",
    "    cookies = pickle.load(open(\"cookies.pkl\", \"rb\"))\n",
    "    for cookie in cookies:\n",
    "        driver.add_cookie(cookie)\n",
    "\n",
    "    \n",
    "\n",
    "\n",
    "def dark_mode():\n",
    "\n",
    "    # Configura o browser para dark mode\n",
    "    driver.get(\"about:config\")\n",
    "    driver.find_element_by_id(\"warningButton\").click()\n",
    "    driver.find_element_by_id(\"about-config-search\").send_keys(\"devtools.theme\")\n",
    "    driver.find_element_by_class_name(\"button-edit\").click()\n",
    "    driver.find_elements_by_xpath(\"//input[@type='text']\")[1].send_keys(\"dark\")\n",
    "    driver.find_element_by_class_name(\"primary.button-save\").click()\n",
    "\n",
    "\n",
    "\n",
    "def login(lgUser, passUser):\n",
    "    driver.find_element_by_xpath(\"//input[@id='login-username']\").clear()\n",
    "    driver.find_element_by_xpath(\"//input[@id='login-username']\").send_keys(lgUser)\n",
    "\n",
    "    driver.find_element_by_xpath(\"//input[@id='password-input']\").clear()\n",
    "    driver.find_element_by_xpath(\"//input[@id='password-input']\").send_keys(passUser)\n",
    "    driver.find_element_by_xpath(\"//*[@data-a-target='passport-login-button']\").click()\n",
    "\n",
    "    # Pega os coockies\n",
    "    time.sleep(1)\n",
    "    pickle.dump(driver.get_cookies() , open(\"cookies.pkl\",\"wb\"))\n",
    "\n",
    "\n",
    "\n",
    "\n",
    "def envia_mensagem(mensagem, listaFaltante):\n",
    "\n",
    "    for user in listaFaltante:\n",
    "\n",
    "        try:\n",
    "\n",
    "            # Abre aba sussurro\n",
    "            driver.find_elements_by_xpath(\"//*[@data-a-target='whisper-box-button']\")[0].click()\n",
    "            \n",
    "            # Limpa o campo que busca usuário\n",
    "            driver.find_elements_by_id(\"threads-box-filter\")[0].clear()\n",
    "\n",
    "            # Envia o nome da pessoa no campo de busca\n",
    "            driver.find_elements_by_id(\"threads-box-filter\")[0].send_keys(user)\n",
    "\n",
    "            time.sleep(1)\n",
    "            \n",
    "            # Clica no usuário buscado\n",
    "            driver.find_element_by_class_name(\"tw-align-items-center.tw-border-b.tw-flex.tw-flex-nowrap.tw-flex-row.tw-full-width.tw-pd-1.whispers-list-item\").click()\n",
    "            time.sleep(1)\n",
    "\n",
    "            #Limpa o campo sussurro\n",
    "            driver.find_element_by_class_name(\"tw-block.tw-border-bottom-left-radius-medium.tw-border-bottom-right-radius-medium.tw-border-top-left-radius-medium.tw-border-top-right-radius-medium.tw-font-size-6.tw-full-width.tw-input.tw-pd-l-1.tw-pd-r-3.tw-pd-y-05\").clear()\n",
    "\n",
    "            # Envia uma mensagem no campo do sussurro\n",
    "            driver.find_element_by_class_name(\"tw-block.tw-border-bottom-left-radius-medium.tw-border-bottom-right-radius-medium.tw-border-top-left-radius-medium.tw-border-top-right-radius-medium.tw-font-size-6.tw-full-width.tw-input.tw-pd-l-1.tw-pd-r-3.tw-pd-y-05\").send_keys(mensagem)\n",
    "\n",
    "            \n",
    "            # Envia a mensagem do sussurro\n",
    "            driver.find_element_by_class_name(\"tw-block.tw-border-bottom-left-radius-medium.tw-border-bottom-right-radius-medium.tw-border-top-left-radius-medium.tw-border-top-right-radius-medium.tw-font-size-6.tw-full-width.tw-input.tw-pd-l-1.tw-pd-r-3.tw-pd-y-05\").send_keys(Keys.ENTER)\n",
    "\n",
    "            time.sleep(2)            \n",
    "\n",
    "            # Fecha o sussurro atual\n",
    "            driver.find_element_by_xpath(\"//*[@aria-label='Fechar']\").click()\n",
    "            \n",
    "        except:\n",
    "            try:\n",
    "                # Fecha o sussurro atual\n",
    "                driver.find_element_by_xpath(\"//*[@aria-label='Fechar']\").click()\n",
    "            except:\n",
    "                driver.find_element_by_xpath(\"//*[@aria-label='Minimizar']\").click()\n",
    "\n",
    "\n",
    "\n",
    "    \n",
    "\n",
    "\n",
    "\n",
    "def total_user_enviados():\n",
    "\n",
    "    dados = carrega_users()\n",
    "    total = 0\n",
    "    for u in dados:\n",
    "        total = total + len(dados[u])\n",
    "    return total\n",
    "\n",
    "\n",
    "\n",
    "\n",
    "fp = webdriver.FirefoxProfile(\"C:\\\\Users\\\\Vinicius\\\\AppData\\\\Roaming\\\\Mozilla\\\\Firefox\\\\Profiles\\\\806re905.default-release\")\n",
    "\n",
    "driver = webdriver.Firefox(fp)\n",
    "driver.implicitly_wait(5)\n",
    "\n",
    "dark_mode()\n",
    "\n",
    "\n"
   ]
  },
  {
   "cell_type": "code",
   "execution_count": 2,
   "metadata": {},
   "outputs": [],
   "source": [
    "broadcaster = \"nayume\""
   ]
  },
  {
   "cell_type": "code",
   "execution_count": 3,
   "metadata": {
    "tags": []
   },
   "outputs": [],
   "source": [
    "\n",
    "\n",
    "mensagem = \"Hi, I'm promoting a channel of a very nice guy he lost his job and is on twitch trying again. https://www.twitch.tv/vinaszz\"\n",
    "\n",
    " with open('Logins_acesso\\Login_teste.json') as f:\n",
    "        data = json.load(f)   \n",
    "\n",
    "lgUser = data[\"0\"][0]\n",
    "passUser = data[\"0\"][1]\n",
    "\n",
    "driver.get(f\"https://www.twitch.tv/{broadcaster}\")\n",
    "cookies()\n",
    "driver.refresh()\n",
    "\n",
    "\n",
    "\n"
   ]
  },
  {
   "cell_type": "code",
   "execution_count": null,
   "metadata": {},
   "outputs": [],
   "source": [
    "dados = carrega_users()   \n",
    "listaOnline = rt_lista_online(broadcaster)"
   ]
  },
  {
   "cell_type": "code",
   "execution_count": null,
   "metadata": {},
   "outputs": [],
   "source": [
    "\n",
    "listaFaltante = rt_users_faltantes(listaOnline,dados)\n",
    "salva_users(listaFaltante,dados)"
   ]
  },
  {
   "cell_type": "code",
   "execution_count": null,
   "metadata": {
    "tags": []
   },
   "outputs": [],
   "source": [
    "envia_mensagem(mensagem, listaFaltante)"
   ]
  },
  {
   "cell_type": "code",
   "execution_count": null,
   "metadata": {},
   "outputs": [],
   "source": [
    "len(listaFaltante)"
   ]
  },
  {
   "cell_type": "code",
   "execution_count": null,
   "metadata": {
    "tags": []
   },
   "outputs": [],
   "source": [
    "total = 0\n",
    "for u in dados:\n",
    "    total = total + len(dados[u])\n",
    "print(total)"
   ]
  },
  {
   "cell_type": "code",
   "execution_count": null,
   "metadata": {},
   "outputs": [],
   "source": [
    "remove_duplicado(dados)"
   ]
  },
  {
   "cell_type": "code",
   "execution_count": null,
   "metadata": {},
   "outputs": [],
   "source": [
    "pickle.dump( driver.get_cookies() , open(\"cookies.pkl\",\"wb\"))"
   ]
  },
  {
   "cell_type": "code",
   "execution_count": null,
   "metadata": {},
   "outputs": [],
   "source": []
  }
 ]
}